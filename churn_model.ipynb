{
 "cells": [
  {
   "cell_type": "markdown",
   "metadata": {},
   "source": [
    "## Churn classification"
   ]
  },
  {
   "cell_type": "code",
   "execution_count": 40,
   "metadata": {},
   "outputs": [],
   "source": [
    "import pandas as pd\n",
    "import numpy as np\n",
    "import scipy as sp"
   ]
  },
  {
   "cell_type": "code",
   "execution_count": 2,
   "metadata": {},
   "outputs": [],
   "source": [
    "data = pd.read_csv('data/telecom_churn.csv')"
   ]
  },
  {
   "cell_type": "markdown",
   "metadata": {},
   "source": [
    "### Scikit baseline model"
   ]
  },
  {
   "cell_type": "code",
   "execution_count": 54,
   "metadata": {},
   "outputs": [],
   "source": [
    "from sklearn.model_selection import train_test_split\n",
    "from sklearn.preprocessing import StandardScaler\n",
    "from sklearn.pipeline import Pipeline\n",
    "from sklearn.preprocessing import OneHotEncoder\n",
    "\n",
    "from sklearn.datasets import make_moons, make_circles, make_classification\n",
    "from sklearn.neural_network import MLPClassifier\n",
    "from sklearn.neighbors import KNeighborsClassifier\n",
    "from sklearn.svm import SVC\n",
    "from sklearn.gaussian_process import GaussianProcessClassifier\n",
    "from sklearn.gaussian_process.kernels import RBF\n",
    "from sklearn.tree import DecisionTreeClassifier\n",
    "from sklearn.ensemble import RandomForestClassifier, AdaBoostClassifier\n",
    "from sklearn.naive_bayes import GaussianNB\n",
    "from sklearn.discriminant_analysis import QuadraticDiscriminantAnalysis\n",
    "from sklearn.inspection import DecisionBoundaryDisplay\n",
    "from sklearn.compose import ColumnTransformer"
   ]
  },
  {
   "cell_type": "code",
   "execution_count": 4,
   "metadata": {},
   "outputs": [],
   "source": [
    "# name list\n",
    "names = [\n",
    "    \"Nearest Neighbors\",\n",
    "    \"Linear SVM\",\n",
    "    \"RBF SVM\",\n",
    "    \"Gaussian Process\",\n",
    "    \"Decision Tree\",\n",
    "    \"Random Forest\",\n",
    "    \"Neural Net\",\n",
    "    \"AdaBoost\",\n",
    "    \"Naive Bayes\",\n",
    "    \"QDA\",\n",
    "]\n",
    "\n",
    "# list of classifiers\n",
    "classifiers = [\n",
    "    KNeighborsClassifier(),\n",
    "    SVC(),\n",
    "    SVC(),\n",
    "    GaussianProcessClassifier(),\n",
    "    DecisionTreeClassifier(),\n",
    "    RandomForestClassifier(),\n",
    "    MLPClassifier(),\n",
    "    AdaBoostClassifier(),\n",
    "    GaussianNB(),\n",
    "    QuadraticDiscriminantAnalysis(),\n",
    "]"
   ]
  },
  {
   "cell_type": "code",
   "execution_count": 67,
   "metadata": {},
   "outputs": [],
   "source": [
    "def predictor_train(X, y,name,alg):\n",
    "    \"\"\"_summary_\n",
    "\n",
    "    Args:\n",
    "        X (_type_): _description_\n",
    "        y (_type_): _description_\n",
    "        name (_type_): _description_\n",
    "        alg (_type_): _description_\n",
    "\n",
    "    Returns:\n",
    "        _type_: _description_\n",
    "    \"\"\"\n",
    "    ct = ColumnTransformer([\n",
    "    ('binary data', OneHotEncoder(), [1,2]),\n",
    "    ('standard', StandardScaler(), [0,3,4,5,6,7,8,9])],\n",
    "    remainder = 'passthrough')\n",
    "\n",
    "    pipe = Pipeline(steps=[('columntrans', ct),(name, alg)])\n",
    "    pipe.fit(X, y)\n",
    "    return pipe\n",
    "\n",
    "\n",
    "def score(X,y,name,alg):\n",
    "    \"\"\"_summary_\n",
    "\n",
    "    Args:\n",
    "        X (_type_): _description_\n",
    "        y (_type_): _description_\n",
    "        name (_type_): _description_\n",
    "        alg (_type_): _description_\n",
    "\n",
    "    Returns:\n",
    "        _type_: _description_\n",
    "    \"\"\"\n",
    "    return [name , alg.score(X,y)]\n",
    "\n",
    "\n",
    "def predict(X, y, name, alg):\n",
    "    \"\"\"_summary_\n",
    "\n",
    "    Args:\n",
    "        X (_type_): _description_\n",
    "        y (_type_): _description_\n",
    "        name (_type_): _description_\n",
    "        alg (_type_): _description_\n",
    "\n",
    "    Returns:\n",
    "        _type_: _description_\n",
    "    \"\"\"\n",
    "    predictions = alg.predict(X)\n",
    "    return [name, predictions]"
   ]
  },
  {
   "cell_type": "code",
   "execution_count": 66,
   "metadata": {},
   "outputs": [
    {
     "data": {
      "text/html": [
       "<div>\n",
       "<style scoped>\n",
       "    .dataframe tbody tr th:only-of-type {\n",
       "        vertical-align: middle;\n",
       "    }\n",
       "\n",
       "    .dataframe tbody tr th {\n",
       "        vertical-align: top;\n",
       "    }\n",
       "\n",
       "    .dataframe thead th {\n",
       "        text-align: right;\n",
       "    }\n",
       "</style>\n",
       "<table border=\"1\" class=\"dataframe\">\n",
       "  <thead>\n",
       "    <tr style=\"text-align: right;\">\n",
       "      <th></th>\n",
       "      <th>Churn</th>\n",
       "      <th>AccountWeeks</th>\n",
       "      <th>ContractRenewal</th>\n",
       "      <th>DataPlan</th>\n",
       "      <th>DataUsage</th>\n",
       "      <th>CustServCalls</th>\n",
       "      <th>DayMins</th>\n",
       "      <th>DayCalls</th>\n",
       "      <th>MonthlyCharge</th>\n",
       "      <th>OverageFee</th>\n",
       "      <th>RoamMins</th>\n",
       "    </tr>\n",
       "  </thead>\n",
       "  <tbody>\n",
       "    <tr>\n",
       "      <th>0</th>\n",
       "      <td>0</td>\n",
       "      <td>128</td>\n",
       "      <td>1</td>\n",
       "      <td>1</td>\n",
       "      <td>2.70</td>\n",
       "      <td>1</td>\n",
       "      <td>265.1</td>\n",
       "      <td>110</td>\n",
       "      <td>89.0</td>\n",
       "      <td>9.87</td>\n",
       "      <td>10.0</td>\n",
       "    </tr>\n",
       "    <tr>\n",
       "      <th>1</th>\n",
       "      <td>0</td>\n",
       "      <td>107</td>\n",
       "      <td>1</td>\n",
       "      <td>1</td>\n",
       "      <td>3.70</td>\n",
       "      <td>1</td>\n",
       "      <td>161.6</td>\n",
       "      <td>123</td>\n",
       "      <td>82.0</td>\n",
       "      <td>9.78</td>\n",
       "      <td>13.7</td>\n",
       "    </tr>\n",
       "    <tr>\n",
       "      <th>2</th>\n",
       "      <td>0</td>\n",
       "      <td>137</td>\n",
       "      <td>1</td>\n",
       "      <td>0</td>\n",
       "      <td>0.00</td>\n",
       "      <td>0</td>\n",
       "      <td>243.4</td>\n",
       "      <td>114</td>\n",
       "      <td>52.0</td>\n",
       "      <td>6.06</td>\n",
       "      <td>12.2</td>\n",
       "    </tr>\n",
       "    <tr>\n",
       "      <th>3</th>\n",
       "      <td>0</td>\n",
       "      <td>84</td>\n",
       "      <td>0</td>\n",
       "      <td>0</td>\n",
       "      <td>0.00</td>\n",
       "      <td>2</td>\n",
       "      <td>299.4</td>\n",
       "      <td>71</td>\n",
       "      <td>57.0</td>\n",
       "      <td>3.10</td>\n",
       "      <td>6.6</td>\n",
       "    </tr>\n",
       "    <tr>\n",
       "      <th>4</th>\n",
       "      <td>0</td>\n",
       "      <td>75</td>\n",
       "      <td>0</td>\n",
       "      <td>0</td>\n",
       "      <td>0.00</td>\n",
       "      <td>3</td>\n",
       "      <td>166.7</td>\n",
       "      <td>113</td>\n",
       "      <td>41.0</td>\n",
       "      <td>7.42</td>\n",
       "      <td>10.1</td>\n",
       "    </tr>\n",
       "    <tr>\n",
       "      <th>...</th>\n",
       "      <td>...</td>\n",
       "      <td>...</td>\n",
       "      <td>...</td>\n",
       "      <td>...</td>\n",
       "      <td>...</td>\n",
       "      <td>...</td>\n",
       "      <td>...</td>\n",
       "      <td>...</td>\n",
       "      <td>...</td>\n",
       "      <td>...</td>\n",
       "      <td>...</td>\n",
       "    </tr>\n",
       "    <tr>\n",
       "      <th>3328</th>\n",
       "      <td>0</td>\n",
       "      <td>192</td>\n",
       "      <td>1</td>\n",
       "      <td>1</td>\n",
       "      <td>2.67</td>\n",
       "      <td>2</td>\n",
       "      <td>156.2</td>\n",
       "      <td>77</td>\n",
       "      <td>71.7</td>\n",
       "      <td>10.78</td>\n",
       "      <td>9.9</td>\n",
       "    </tr>\n",
       "    <tr>\n",
       "      <th>3329</th>\n",
       "      <td>0</td>\n",
       "      <td>68</td>\n",
       "      <td>1</td>\n",
       "      <td>0</td>\n",
       "      <td>0.34</td>\n",
       "      <td>3</td>\n",
       "      <td>231.1</td>\n",
       "      <td>57</td>\n",
       "      <td>56.4</td>\n",
       "      <td>7.67</td>\n",
       "      <td>9.6</td>\n",
       "    </tr>\n",
       "    <tr>\n",
       "      <th>3330</th>\n",
       "      <td>0</td>\n",
       "      <td>28</td>\n",
       "      <td>1</td>\n",
       "      <td>0</td>\n",
       "      <td>0.00</td>\n",
       "      <td>2</td>\n",
       "      <td>180.8</td>\n",
       "      <td>109</td>\n",
       "      <td>56.0</td>\n",
       "      <td>14.44</td>\n",
       "      <td>14.1</td>\n",
       "    </tr>\n",
       "    <tr>\n",
       "      <th>3331</th>\n",
       "      <td>0</td>\n",
       "      <td>184</td>\n",
       "      <td>0</td>\n",
       "      <td>0</td>\n",
       "      <td>0.00</td>\n",
       "      <td>2</td>\n",
       "      <td>213.8</td>\n",
       "      <td>105</td>\n",
       "      <td>50.0</td>\n",
       "      <td>7.98</td>\n",
       "      <td>5.0</td>\n",
       "    </tr>\n",
       "    <tr>\n",
       "      <th>3332</th>\n",
       "      <td>0</td>\n",
       "      <td>74</td>\n",
       "      <td>1</td>\n",
       "      <td>1</td>\n",
       "      <td>3.70</td>\n",
       "      <td>0</td>\n",
       "      <td>234.4</td>\n",
       "      <td>113</td>\n",
       "      <td>100.0</td>\n",
       "      <td>13.30</td>\n",
       "      <td>13.7</td>\n",
       "    </tr>\n",
       "  </tbody>\n",
       "</table>\n",
       "<p>3333 rows × 11 columns</p>\n",
       "</div>"
      ],
      "text/plain": [
       "      Churn  AccountWeeks  ContractRenewal  DataPlan  DataUsage  \\\n",
       "0         0           128                1         1       2.70   \n",
       "1         0           107                1         1       3.70   \n",
       "2         0           137                1         0       0.00   \n",
       "3         0            84                0         0       0.00   \n",
       "4         0            75                0         0       0.00   \n",
       "...     ...           ...              ...       ...        ...   \n",
       "3328      0           192                1         1       2.67   \n",
       "3329      0            68                1         0       0.34   \n",
       "3330      0            28                1         0       0.00   \n",
       "3331      0           184                0         0       0.00   \n",
       "3332      0            74                1         1       3.70   \n",
       "\n",
       "      CustServCalls  DayMins  DayCalls  MonthlyCharge  OverageFee  RoamMins  \n",
       "0                 1    265.1       110           89.0        9.87      10.0  \n",
       "1                 1    161.6       123           82.0        9.78      13.7  \n",
       "2                 0    243.4       114           52.0        6.06      12.2  \n",
       "3                 2    299.4        71           57.0        3.10       6.6  \n",
       "4                 3    166.7       113           41.0        7.42      10.1  \n",
       "...             ...      ...       ...            ...         ...       ...  \n",
       "3328              2    156.2        77           71.7       10.78       9.9  \n",
       "3329              3    231.1        57           56.4        7.67       9.6  \n",
       "3330              2    180.8       109           56.0       14.44      14.1  \n",
       "3331              2    213.8       105           50.0        7.98       5.0  \n",
       "3332              0    234.4       113          100.0       13.30      13.7  \n",
       "\n",
       "[3333 rows x 11 columns]"
      ]
     },
     "execution_count": 66,
     "metadata": {},
     "output_type": "execute_result"
    }
   ],
   "source": [
    "data"
   ]
  },
  {
   "cell_type": "code",
   "execution_count": 45,
   "metadata": {},
   "outputs": [],
   "source": [
    "x_train, x_test, y_train, y_test = train_test_split(data.iloc[:,1:].values, data.Churn, test_size=0.2, random_state=42)"
   ]
  },
  {
   "cell_type": "code",
   "execution_count": 78,
   "metadata": {},
   "outputs": [
    {
     "data": {
      "text/plain": [
       "((2666, 10), (667, 10))"
      ]
     },
     "execution_count": 78,
     "metadata": {},
     "output_type": "execute_result"
    }
   ],
   "source": [
    "x_train.shape , x_test.shape"
   ]
  },
  {
   "cell_type": "code",
   "execution_count": 79,
   "metadata": {},
   "outputs": [
    {
     "data": {
      "text/plain": [
       "((2666,), (667,))"
      ]
     },
     "execution_count": 79,
     "metadata": {},
     "output_type": "execute_result"
    }
   ],
   "source": [
    "y_train.shape , y_test.shape"
   ]
  },
  {
   "cell_type": "code",
   "execution_count": 104,
   "metadata": {},
   "outputs": [],
   "source": [
    "trained_alg = []\n",
    "scores = []\n",
    "predictions = []"
   ]
  },
  {
   "cell_type": "code",
   "execution_count": 105,
   "metadata": {},
   "outputs": [
    {
     "name": "stderr",
     "output_type": "stream",
     "text": [
      "e:\\anaconda\\envs\\data_science\\lib\\site-packages\\sklearn\\discriminant_analysis.py:887: UserWarning: Variables are collinear\n",
      "  warnings.warn(\"Variables are collinear\")\n"
     ]
    }
   ],
   "source": [
    "for name, clf in zip(names, classifiers):\n",
    "    trained_alg.append([name, predictor_train(x_train, y_train, name , clf)])"
   ]
  },
  {
   "cell_type": "code",
   "execution_count": 106,
   "metadata": {},
   "outputs": [
    {
     "data": {
      "text/plain": [
       "[['Nearest Neighbors',\n",
       "  Pipeline(steps=[('columntrans',\n",
       "                   ColumnTransformer(remainder='passthrough',\n",
       "                                     transformers=[('binary data',\n",
       "                                                    OneHotEncoder(), [1, 2]),\n",
       "                                                   ('standard', StandardScaler(),\n",
       "                                                    [0, 3, 4, 5, 6, 7, 8, 9])])),\n",
       "                  ('Nearest Neighbors', KNeighborsClassifier(n_neighbors=3))])],\n",
       " ['Linear SVM',\n",
       "  Pipeline(steps=[('columntrans',\n",
       "                   ColumnTransformer(remainder='passthrough',\n",
       "                                     transformers=[('binary data',\n",
       "                                                    OneHotEncoder(), [1, 2]),\n",
       "                                                   ('standard', StandardScaler(),\n",
       "                                                    [0, 3, 4, 5, 6, 7, 8, 9])])),\n",
       "                  ('Linear SVM', SVC(C=0.025, kernel='linear'))])],\n",
       " ['RBF SVM',\n",
       "  Pipeline(steps=[('columntrans',\n",
       "                   ColumnTransformer(remainder='passthrough',\n",
       "                                     transformers=[('binary data',\n",
       "                                                    OneHotEncoder(), [1, 2]),\n",
       "                                                   ('standard', StandardScaler(),\n",
       "                                                    [0, 3, 4, 5, 6, 7, 8, 9])])),\n",
       "                  ('RBF SVM', SVC(C=1, gamma=2))])],\n",
       " ['Gaussian Process',\n",
       "  Pipeline(steps=[('columntrans',\n",
       "                   ColumnTransformer(remainder='passthrough',\n",
       "                                     transformers=[('binary data',\n",
       "                                                    OneHotEncoder(), [1, 2]),\n",
       "                                                   ('standard', StandardScaler(),\n",
       "                                                    [0, 3, 4, 5, 6, 7, 8, 9])])),\n",
       "                  ('Gaussian Process',\n",
       "                   GaussianProcessClassifier(kernel=1**2 * RBF(length_scale=1)))])],\n",
       " ['Decision Tree',\n",
       "  Pipeline(steps=[('columntrans',\n",
       "                   ColumnTransformer(remainder='passthrough',\n",
       "                                     transformers=[('binary data',\n",
       "                                                    OneHotEncoder(), [1, 2]),\n",
       "                                                   ('standard', StandardScaler(),\n",
       "                                                    [0, 3, 4, 5, 6, 7, 8, 9])])),\n",
       "                  ('Decision Tree', DecisionTreeClassifier(max_depth=5))])],\n",
       " ['Random Forest',\n",
       "  Pipeline(steps=[('columntrans',\n",
       "                   ColumnTransformer(remainder='passthrough',\n",
       "                                     transformers=[('binary data',\n",
       "                                                    OneHotEncoder(), [1, 2]),\n",
       "                                                   ('standard', StandardScaler(),\n",
       "                                                    [0, 3, 4, 5, 6, 7, 8, 9])])),\n",
       "                  ('Random Forest',\n",
       "                   RandomForestClassifier(max_depth=5, max_features=1,\n",
       "                                          n_estimators=10))])],\n",
       " ['Neural Net',\n",
       "  Pipeline(steps=[('columntrans',\n",
       "                   ColumnTransformer(remainder='passthrough',\n",
       "                                     transformers=[('binary data',\n",
       "                                                    OneHotEncoder(), [1, 2]),\n",
       "                                                   ('standard', StandardScaler(),\n",
       "                                                    [0, 3, 4, 5, 6, 7, 8, 9])])),\n",
       "                  ('Neural Net', MLPClassifier(alpha=1, max_iter=1000))])],\n",
       " ['AdaBoost',\n",
       "  Pipeline(steps=[('columntrans',\n",
       "                   ColumnTransformer(remainder='passthrough',\n",
       "                                     transformers=[('binary data',\n",
       "                                                    OneHotEncoder(), [1, 2]),\n",
       "                                                   ('standard', StandardScaler(),\n",
       "                                                    [0, 3, 4, 5, 6, 7, 8, 9])])),\n",
       "                  ('AdaBoost', AdaBoostClassifier())])],\n",
       " ['Naive Bayes',\n",
       "  Pipeline(steps=[('columntrans',\n",
       "                   ColumnTransformer(remainder='passthrough',\n",
       "                                     transformers=[('binary data',\n",
       "                                                    OneHotEncoder(), [1, 2]),\n",
       "                                                   ('standard', StandardScaler(),\n",
       "                                                    [0, 3, 4, 5, 6, 7, 8, 9])])),\n",
       "                  ('Naive Bayes', GaussianNB())])],\n",
       " ['QDA',\n",
       "  Pipeline(steps=[('columntrans',\n",
       "                   ColumnTransformer(remainder='passthrough',\n",
       "                                     transformers=[('binary data',\n",
       "                                                    OneHotEncoder(), [1, 2]),\n",
       "                                                   ('standard', StandardScaler(),\n",
       "                                                    [0, 3, 4, 5, 6, 7, 8, 9])])),\n",
       "                  ('QDA', QuadraticDiscriminantAnalysis())])]]"
      ]
     },
     "execution_count": 106,
     "metadata": {},
     "output_type": "execute_result"
    }
   ],
   "source": [
    "trained_alg"
   ]
  },
  {
   "cell_type": "code",
   "execution_count": 107,
   "metadata": {},
   "outputs": [],
   "source": [
    "for name, clf in trained_alg:\n",
    "    scores.append(score(x_test, y_test, name, clf))"
   ]
  },
  {
   "cell_type": "code",
   "execution_count": 108,
   "metadata": {},
   "outputs": [
    {
     "data": {
      "text/plain": [
       "[['Nearest Neighbors', 0.8920539730134932],\n",
       " ['Linear SVM', 0.848575712143928],\n",
       " ['RBF SVM', 0.856071964017991],\n",
       " ['Gaussian Process', 0.9340329835082459],\n",
       " ['Decision Tree', 0.9115442278860569],\n",
       " ['Random Forest', 0.8785607196401799],\n",
       " ['Neural Net', 0.9175412293853074],\n",
       " ['AdaBoost', 0.896551724137931],\n",
       " ['Naive Bayes', 0.8365817091454273],\n",
       " ['QDA', 0.7466266866566716]]"
      ]
     },
     "execution_count": 108,
     "metadata": {},
     "output_type": "execute_result"
    }
   ],
   "source": [
    "scores"
   ]
  },
  {
   "cell_type": "code",
   "execution_count": 109,
   "metadata": {},
   "outputs": [],
   "source": [
    "for name, clf in trained_alg:\n",
    "    predictions.append([name, predict(x_test, y_test, name, clf)])"
   ]
  },
  {
   "cell_type": "code",
   "execution_count": 110,
   "metadata": {},
   "outputs": [
    {
     "data": {
      "text/plain": [
       "[['Nearest Neighbors',\n",
       "  ['Nearest Neighbors',\n",
       "   array([0, 0, 0, 0, 0, 0, 0, 0, 0, 0, 0, 0, 0, 1, 0, 0, 0, 0, 0, 0, 0, 0,\n",
       "          0, 0, 0, 0, 0, 1, 0, 0, 0, 0, 0, 0, 0, 0, 0, 0, 0, 0, 0, 0, 0, 0,\n",
       "          0, 0, 1, 0, 0, 0, 0, 0, 0, 0, 0, 0, 0, 0, 0, 0, 0, 0, 0, 0, 0, 0,\n",
       "          0, 0, 0, 0, 1, 0, 0, 1, 0, 0, 0, 1, 0, 0, 0, 1, 0, 0, 0, 0, 0, 0,\n",
       "          0, 1, 0, 1, 1, 0, 0, 0, 1, 0, 0, 0, 0, 0, 1, 0, 0, 0, 0, 0, 0, 0,\n",
       "          0, 0, 0, 0, 0, 0, 0, 0, 0, 0, 0, 0, 0, 0, 0, 0, 1, 0, 0, 0, 0, 0,\n",
       "          0, 0, 0, 0, 0, 0, 0, 0, 0, 0, 0, 0, 0, 0, 0, 0, 0, 0, 0, 0, 0, 0,\n",
       "          0, 0, 0, 0, 0, 0, 0, 0, 0, 0, 0, 0, 0, 0, 0, 1, 0, 0, 0, 0, 0, 0,\n",
       "          0, 0, 0, 1, 0, 0, 0, 0, 0, 0, 1, 1, 0, 0, 0, 0, 0, 0, 0, 0, 0, 0,\n",
       "          0, 0, 0, 0, 0, 0, 0, 0, 0, 0, 0, 0, 0, 0, 0, 0, 0, 0, 0, 0, 1, 0,\n",
       "          0, 0, 0, 1, 0, 0, 0, 0, 0, 1, 0, 0, 0, 0, 0, 1, 0, 0, 0, 0, 0, 0,\n",
       "          0, 0, 0, 0, 0, 0, 0, 0, 0, 0, 0, 0, 1, 0, 0, 0, 0, 0, 0, 0, 0, 1,\n",
       "          0, 0, 0, 0, 0, 0, 1, 0, 1, 0, 0, 1, 0, 0, 0, 0, 0, 0, 0, 0, 0, 0,\n",
       "          0, 0, 0, 0, 0, 0, 0, 0, 0, 0, 0, 1, 0, 0, 0, 0, 0, 1, 0, 1, 0, 0,\n",
       "          0, 0, 0, 0, 0, 0, 0, 0, 0, 0, 0, 0, 1, 0, 0, 0, 0, 0, 0, 0, 0, 0,\n",
       "          0, 0, 0, 0, 0, 0, 0, 0, 1, 0, 0, 0, 0, 1, 0, 0, 1, 0, 0, 0, 1, 0,\n",
       "          0, 0, 0, 0, 0, 0, 0, 0, 0, 0, 0, 0, 0, 0, 0, 0, 0, 0, 0, 0, 0, 0,\n",
       "          0, 0, 1, 0, 0, 0, 0, 0, 0, 0, 0, 0, 0, 0, 0, 0, 0, 0, 0, 0, 0, 0,\n",
       "          0, 1, 0, 0, 0, 0, 0, 0, 0, 0, 0, 0, 1, 0, 0, 0, 0, 0, 0, 1, 0, 0,\n",
       "          0, 0, 1, 0, 0, 0, 0, 0, 0, 0, 0, 0, 0, 0, 0, 0, 0, 0, 0, 1, 0, 0,\n",
       "          0, 0, 0, 0, 0, 0, 0, 0, 0, 0, 0, 0, 0, 0, 0, 0, 0, 0, 0, 0, 0, 0,\n",
       "          0, 0, 0, 0, 0, 0, 0, 0, 0, 0, 0, 0, 0, 0, 0, 0, 0, 0, 0, 0, 0, 0,\n",
       "          0, 0, 0, 0, 1, 0, 0, 1, 0, 0, 0, 0, 0, 0, 0, 0, 0, 0, 0, 0, 0, 0,\n",
       "          0, 0, 0, 0, 0, 0, 0, 0, 0, 0, 0, 0, 0, 0, 0, 0, 0, 0, 0, 0, 0, 0,\n",
       "          0, 0, 0, 0, 0, 0, 0, 0, 0, 0, 0, 0, 0, 1, 0, 0, 0, 0, 0, 0, 0, 0,\n",
       "          0, 0, 0, 0, 0, 0, 1, 0, 0, 0, 0, 0, 0, 0, 0, 0, 0, 0, 0, 0, 1, 0,\n",
       "          0, 0, 0, 0, 0, 0, 0, 0, 0, 0, 1, 0, 0, 0, 0, 0, 0, 0, 0, 0, 1, 0,\n",
       "          0, 0, 0, 0, 0, 0, 0, 0, 0, 0, 0, 0, 1, 0, 0, 1, 0, 0, 0, 0, 0, 0,\n",
       "          0, 0, 0, 0, 0, 1, 0, 0, 0, 0, 0, 0, 0, 1, 1, 0, 0, 0, 0, 0, 0, 0,\n",
       "          0, 0, 1, 0, 0, 0, 0, 0, 0, 1, 0, 0, 0, 0, 0, 0, 0, 0, 0, 0, 0, 0,\n",
       "          0, 1, 0, 0, 0, 0, 0], dtype=int64)]]]"
      ]
     },
     "execution_count": 110,
     "metadata": {},
     "output_type": "execute_result"
    }
   ],
   "source": [
    "predictions[:1]"
   ]
  },
  {
   "cell_type": "markdown",
   "metadata": {},
   "source": [
    "### Visualize the baseline model"
   ]
  },
  {
   "cell_type": "code",
   "execution_count": 88,
   "metadata": {},
   "outputs": [],
   "source": [
    "import matplotlib.pyplot as plt\n",
    "import seaborn as sns\n",
    "\n",
    "plt.style.use('bmh')"
   ]
  },
  {
   "cell_type": "code",
   "execution_count": 111,
   "metadata": {},
   "outputs": [
    {
     "data": {
      "text/plain": [
       "['Nearest Neighbors',\n",
       " 'Linear SVM',\n",
       " 'RBF SVM',\n",
       " 'Gaussian Process',\n",
       " 'Decision Tree',\n",
       " 'Random Forest',\n",
       " 'Neural Net',\n",
       " 'AdaBoost',\n",
       " 'Naive Bayes',\n",
       " 'QDA']"
      ]
     },
     "execution_count": 111,
     "metadata": {},
     "output_type": "execute_result"
    }
   ],
   "source": [
    "[i[0] for i in scores]"
   ]
  },
  {
   "cell_type": "code",
   "execution_count": 112,
   "metadata": {},
   "outputs": [
    {
     "data": {
      "text/plain": [
       "[0.8920539730134932,\n",
       " 0.848575712143928,\n",
       " 0.856071964017991,\n",
       " 0.9340329835082459,\n",
       " 0.9115442278860569,\n",
       " 0.8785607196401799,\n",
       " 0.9175412293853074,\n",
       " 0.896551724137931,\n",
       " 0.8365817091454273,\n",
       " 0.7466266866566716]"
      ]
     },
     "execution_count": 112,
     "metadata": {},
     "output_type": "execute_result"
    }
   ],
   "source": [
    "[i[1] for i in scores]"
   ]
  },
  {
   "cell_type": "code",
   "execution_count": 168,
   "metadata": {},
   "outputs": [
    {
     "data": {
      "image/png": "[encoded data removed]",
      "text/plain": [
       "<Figure size 1368x576 with 1 Axes>"
      ]
     },
     "metadata": {
      "needs_background": "light"
     },
     "output_type": "display_data"
    }
   ],
   "source": [
    "plt.figure(figsize=(19,8))\n",
    "sns.barplot(x=[i[0] for i in scores], y=[i[1] for i in scores])\n",
    "plt.ylim(0.5, 1.05)\n",
    "plt.yticks(np.arange(0.5, 1.05, 0.05))\n",
    "plt.ylabel('Accuracy starting from 50%')\n",
    "plt.xlabel('Algorithms')\n",
    "plt.hlines(y=np.max([i[1] for i in scores]), xmin=-0.5, xmax=9.5, colors='g', linestyles='dashed')\n",
    "plt.text(2.85, 0.95, round(np.max([i[1] for i in scores]),2) , ha='left', va='center', fontsize = 14)\n",
    "plt.hlines(y=np.min([i[1] for i in scores]), xmin=-0.5, xmax=9.5, colors='r', linestyles='dashed')\n",
    "plt.text(8.8, 0.76, round(np.min([i[1] for i in scores]),2), ha='left', va='center', fontsize = 14)\n",
    "plt.legend(['Max Accuracy', 'Min Accuracy'])\n",
    "plt.title('Baseline models scores');"
   ]
  },
  {
   "cell_type": "markdown",
   "metadata": {},
   "source": [
    "### Gaussian Process  "
   ]
  },
  {
   "cell_type": "code",
   "execution_count": null,
   "metadata": {},
   "outputs": [],
   "source": []
  },
  {
   "cell_type": "markdown",
   "metadata": {},
   "source": [
    "### Decission Tree"
   ]
  },
  {
   "cell_type": "code",
   "execution_count": null,
   "metadata": {},
   "outputs": [],
   "source": []
  }
 ],
 "metadata": {
  "kernelspec": {
   "display_name": "Python 3.9.12 ('data_science')",
   "language": "python",
   "name": "python3"
  },
  "language_info": {
   "codemirror_mode": {
    "name": "ipython",
    "version": 3
   },
   "file_extension": ".py",
   "mimetype": "text/x-python",
   "name": "python",
   "nbconvert_exporter": "python",
   "pygments_lexer": "ipython3",
   "version": "3.9.12"
  },
  "orig_nbformat": 4,
  "vscode": {
   "interpreter": {
    "hash": "e91bea4359c68133ddf90bed82d915976424d94aead1b3c62c788f8bbef90740"
   }
  }
 },
 "nbformat": 4,
 "nbformat_minor": 2
}
